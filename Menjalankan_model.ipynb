{
  "nbformat": 4,
  "nbformat_minor": 0,
  "metadata": {
    "colab": {
      "provenance": [],
      "gpuType": "T4"
    },
    "kernelspec": {
      "name": "python3",
      "display_name": "Python 3"
    },
    "language_info": {
      "name": "python"
    },
    "accelerator": "GPU"
  },
  "cells": [
    {
      "cell_type": "code",
      "execution_count": null,
      "metadata": {
        "colab": {
          "base_uri": "https://localhost:8080/"
        },
        "id": "9sfqtRNAJbpz",
        "outputId": "2e6adb5e-a954-4c34-c960-106fd8b44d4e"
      },
      "outputs": [
        {
          "output_type": "stream",
          "name": "stdout",
          "text": [
            "Mounted at /content/drive\n"
          ]
        }
      ],
      "source": [
        "from google.colab import drive\n",
        "drive.mount('/content/drive')\n"
      ]
    },
    {
      "cell_type": "code",
      "source": [
        "import tensorflow as tf"
      ],
      "metadata": {
        "id": "AXE0-rzKQqrq"
      },
      "execution_count": null,
      "outputs": []
    },
    {
      "cell_type": "code",
      "source": [
        "from tensorflow.keras.models import load_model\n",
        "from tensorflow.keras.preprocessing import image\n",
        "import numpy as np\n",
        "\n",
        "# Load the model\n",
        "model = load_model('/content/drive/MyDrive/my_model (2).h5')  # Ganti dengan path yang benar ke model .h5 Anda\n",
        "\n",
        "# Load dan proses gambar\n",
        "img_path = '/content/lima-langkah-mudah-menggoreng-paha-ayam-tanpa-kulit-qvp.jpg'  # Ganti dengan path yang benar ke gambar Anda\n",
        "img = image.load_img(img_path, target_size=(300, 300))  # Sesuaikan target_size dengan input size model Anda\n",
        "img_array = image.img_to_array(img)\n",
        "img_array = np.expand_dims(img_array, axis=0)  # Model mengharapkan batch gambar, jadi tambahkan dimensi batch\n",
        "\n",
        "# Normalisasi gambar jika model Anda memerlukannya, tergantung pada preprocessing yang dilakukan saat pelatihan\n",
        "img_array /= 255.0\n",
        "class_mapping = {\n",
        "    'Alpukat': 0, 'Anggur': 1, 'Apel': 2, 'Asparagus': 3, 'Brokoli': 4, 'Buah naga': 5, 'Ceker ayam': 6,\n",
        "    'Dada ayam': 7, 'Durian': 8, 'Jagung': 9, 'Jambu Air': 10, 'Jeruk': 11, 'Kacang Mete': 12,\n",
        "    'Kacang polong': 13, 'Kacang tanah': 14, 'Kangkung': 15, 'Kelapa': 16, 'Kembang Kol': 17,\n",
        "    'Kentang': 18, 'Klengkeng': 19, 'Labu': 20, 'Labu Siam': 21, 'Leci': 22, 'Lemon': 23,\n",
        "    'Lobak Merah': 24, 'Mangga': 25, 'Melon': 26, 'Mentimun': 27, 'Nanas': 28, 'Nangka': 29,\n",
        "    'Nasi merah': 30, 'Nasi putih': 31, 'Paha bawah ayam': 32, 'Paprika': 33, 'Pare': 34,\n",
        "    'Pepaya': 35, 'Pir': 36, 'Pisang': 37, 'Pokcoy': 38, 'Pork belly': 39, 'Rambutan': 40,\n",
        "    'Salmon': 41, 'Sayap Ayam': 42, 'Semangka': 43, 'Singkong': 44, 'Stroberi': 45, 'Tahu': 46,\n",
        "    'Tauge': 47, 'Telur': 48, 'Tempe': 49, 'Terong': 50, 'Tomat': 51, 'Ubi': 52, 'Wortel': 53\n",
        "}\n",
        "\n",
        "# Membuat pemetaan terbalik dari indeks ke nama kelas\n",
        "index_to_class = {v: k for k, v in class_mapping.items()}\n",
        "\n",
        "# Lakukan prediksi\n",
        "predictions = model.predict(img_array)\n",
        "predicted_index = np.argmax(predictions, axis=1)[0]\n",
        "\n",
        "# Tampilkan hasil prediksi\n",
        "# Ini akan berbeda tergantung pada jenis model dan jenis output yang dihasilkan\n",
        "print(predictions)\n",
        "\n",
        "# Jika model Anda merupakan model klasifikasi, Anda mungkin ingin mendapatkan indeks dari prediksi terbesar\n",
        "predicted_class_name = index_to_class[predicted_index]\n",
        "print(\"Prediksi kelas:\", predicted_class_name)\n",
        "\n"
      ],
      "metadata": {
        "colab": {
          "base_uri": "https://localhost:8080/"
        },
        "id": "lAX8Yx8BP0N8",
        "outputId": "061feb66-e4d4-49c4-e7dd-6cb0ad03d626"
      },
      "execution_count": null,
      "outputs": [
        {
          "output_type": "stream",
          "name": "stdout",
          "text": [
            "1/1 [==============================] - 1s 759ms/step\n",
            "[[5.9227e-09 3.1189e-09 9.9117e-09 3.2542e-07 1.4223e-05 7.9250e-07\n",
            "  3.4303e-04 4.2480e-02 6.5039e-05 4.2211e-07 1.0417e-06 2.0223e-10\n",
            "  3.7792e-05 2.1873e-08 3.8653e-07 2.0969e-09 8.8872e-06 1.1654e-04\n",
            "  2.2762e-06 5.5013e-10 1.1817e-08 3.5784e-07 4.5655e-09 2.8092e-09\n",
            "  2.7758e-07 3.8155e-08 4.2882e-07 4.3745e-08 1.5986e-08 2.3437e-05\n",
            "  6.1833e-08 1.3032e-06 7.3966e-01 2.5345e-09 1.4589e-08 1.4813e-07\n",
            "  3.0304e-08 1.3239e-08 2.8733e-05 6.6638e-04 1.1042e-08 1.3151e-07\n",
            "  2.1636e-01 4.0313e-09 1.0633e-05 3.5720e-11 1.2890e-07 3.3930e-06\n",
            "  4.1139e-07 6.1090e-06 4.2608e-07 8.7586e-10 1.6363e-04 6.7096e-11]]\n",
            "Prediksi kelas: Paha bawah ayam\n"
          ]
        }
      ]
    },
    {
      "cell_type": "code",
      "source": [],
      "metadata": {
        "id": "mYQspyloTC1N"
      },
      "execution_count": null,
      "outputs": []
    }
  ]
}